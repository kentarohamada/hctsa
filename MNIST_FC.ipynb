{
  "nbformat": 4,
  "nbformat_minor": 0,
  "metadata": {
    "colab": {
      "name": "MNIST_FC.ipynb",
      "provenance": [],
      "collapsed_sections": [],
      "include_colab_link": true
    },
    "kernelspec": {
      "name": "python3",
      "display_name": "Python 3"
    },
    "accelerator": "GPU"
  },
  "cells": [
    {
      "cell_type": "markdown",
      "metadata": {
        "id": "view-in-github",
        "colab_type": "text"
      },
      "source": [
        "<a href=\"https://colab.research.google.com/github/kentarohamada/hctsa/blob/master/MNIST_FC.ipynb\" target=\"_parent\"><img src=\"https://colab.research.google.com/assets/colab-badge.svg\" alt=\"Open In Colab\"/></a>"
      ]
    },
    {
      "cell_type": "code",
      "metadata": {
        "id": "J_kcBnUnQqfd",
        "colab_type": "code",
        "colab": {
          "base_uri": "https://localhost:8080/",
          "height": 238
        },
        "outputId": "b3456cac-278a-4b52-cea3-501e7a123790"
      },
      "source": [
        "# Google Colab上でChainer環境をセットアップするコマンド\n",
        "!curl https://colab.chainer.org/install | sh -"
      ],
      "execution_count": 1,
      "outputs": [
        {
          "output_type": "stream",
          "text": [
            "  % Total    % Received % Xferd  Average Speed   Time    Time     Time  Current\n",
            "                                 Dload  Upload   Total   Spent    Left  Speed\n",
            "\r  0     0    0     0    0     0      0      0 --:--:-- --:--:-- --:--:--     0\r  0     0    0     0    0     0      0      0 --:--:-- --:--:-- --:--:--     0\r100  1580  100  1580    0     0   2931      0 --:--:-- --:--:-- --:--:--  2925\n",
            "+ apt -y -q install cuda-libraries-dev-10-0\n",
            "Reading package lists...\n",
            "Building dependency tree...\n",
            "Reading state information...\n",
            "cuda-libraries-dev-10-0 is already the newest version (10.0.130-1).\n",
            "0 upgraded, 0 newly installed, 0 to remove and 25 not upgraded.\n",
            "+ pip install -q cupy-cuda100  chainer \n",
            "\u001b[K     |████████████████████████████████| 335.2MB 45kB/s \n",
            "\u001b[?25h+ set +ex\n",
            "Installation succeeded!\n"
          ],
          "name": "stdout"
        }
      ]
    },
    {
      "cell_type": "markdown",
      "metadata": {
        "id": "QAwvvZ83D_WH",
        "colab_type": "text"
      },
      "source": [
        ""
      ]
    },
    {
      "cell_type": "markdown",
      "metadata": {
        "id": "MVKuCoj5D_ud",
        "colab_type": "text"
      },
      "source": [
        ""
      ]
    },
    {
      "cell_type": "code",
      "metadata": {
        "id": "9Qoo02wJQ7fa",
        "colab_type": "code",
        "colab": {}
      },
      "source": [
        "# 各種ライブラリのインポート\n",
        "import os\n",
        "import numpy as np # numpyライブラリをnpという名前で使えるようにする。numpyは行列やベクトル演算に長けたライブラリ。\n",
        "import chainer\n",
        "import chainer.functions as F\n",
        "import chainer.links as L\n",
        "import chainer.initializers as I\n",
        "from chainer import training\n",
        "from chainer.training import extensions\n",
        "from chainer.functions.loss.softmax_cross_entropy import softmax_cross_entropy\n",
        "import matplotlib.pyplot as plt\n",
        "import matplotlib\n",
        "from PIL import Image"
      ],
      "execution_count": 0,
      "outputs": []
    },
    {
      "cell_type": "code",
      "metadata": {
        "id": "ecdAks64RIA-",
        "colab_type": "code",
        "outputId": "c3839ebc-6a5e-4066-a815-87e8173d9cd9",
        "colab": {
          "base_uri": "https://localhost:8080/",
          "height": 85
        }
      },
      "source": [
        "# データセットをダウンロードし，変数に格納する処理\n",
        "train, test = chainer.datasets.get_mnist(scale=255) \n",
        "# ダウンロードと同時に正規化（0〜1への値に変換する）\n",
        "# scale=1で正規化あり，scale=255が正規化なしとなります"
      ],
      "execution_count": 3,
      "outputs": [
        {
          "output_type": "stream",
          "text": [
            "Downloading from http://yann.lecun.com/exdb/mnist/train-images-idx3-ubyte.gz...\n",
            "Downloading from http://yann.lecun.com/exdb/mnist/train-labels-idx1-ubyte.gz...\n",
            "Downloading from http://yann.lecun.com/exdb/mnist/t10k-images-idx3-ubyte.gz...\n",
            "Downloading from http://yann.lecun.com/exdb/mnist/t10k-labels-idx1-ubyte.gz...\n"
          ],
          "name": "stderr"
        }
      ]
    },
    {
      "cell_type": "code",
      "metadata": {
        "id": "1L9zuoJFRm6P",
        "colab_type": "code",
        "colab": {
          "base_uri": "https://localhost:8080/",
          "height": 282
        },
        "outputId": "37a8a958-5dc6-4c60-f4ba-21e1a437e857"
      },
      "source": [
        "# ダウンロードしたデータを可視化\n",
        "plt.imshow(train[0][0].reshape(28, 28), cmap=\"gray\")"
      ],
      "execution_count": 4,
      "outputs": [
        {
          "output_type": "execute_result",
          "data": {
            "text/plain": [
              "<matplotlib.image.AxesImage at 0x7f69a32f7e10>"
            ]
          },
          "metadata": {
            "tags": []
          },
          "execution_count": 4
        },
        {
          "output_type": "display_data",
          "data": {
            "image/png": "[encoded data removed]",
            "text/plain": [
              "<Figure size 432x288 with 1 Axes>"
            ]
          },
          "metadata": {
            "tags": []
          }
        }
      ]
    },
    {
      "cell_type": "code",
      "metadata": {
        "id": "riYnKcwPScne",
        "colab_type": "code",
        "colab": {}
      },
      "source": [
        "###\n",
        "### Class: MNIST Neural Network  \n",
        "### \n",
        "class DNN(chainer.Chain):\n",
        "    def __init__(self):        \n",
        "        super(DNN, self).__init__()\n",
        "        with self.init_scope():\n",
        "            self.l1 = L.Linear(None, 512) # 2入力2出力の全結合層\n",
        "            self.l2 = L.Linear(None, 512) # 同じ\n",
        "            self.l3 = L.Linear(None, 10) # 2入力2出力の全結合層\n",
        "\n",
        "    # forward\n",
        "    def __call__(self, x):\n",
        "        h = self.l1(x)\n",
        "        h = F.relu(h)\n",
        "        h = self.l2(h)\n",
        "        h = F.relu(h)  # まとめて h = F.relu(self.l2(h)) とも書ける（インライン表記）\n",
        "        h = self.l3(h)\n",
        "        return h"
      ],
      "execution_count": 0,
      "outputs": []
    },
    {
      "cell_type": "code",
      "metadata": {
        "id": "nOGRt2k4S8q8",
        "colab_type": "code",
        "colab": {
          "base_uri": "https://localhost:8080/",
          "height": 374
        },
        "outputId": "0198d44c-44f9-45a4-927d-ebb622b1dc3a"
      },
      "source": [
        "device = 0 # GPUを使う場合には0を指定（使わないときは-1にする）\n",
        "minibatchsize = 50 # ミニバッチサイズ\n",
        "epoch = 20 # エポック\n",
        "outdir = 'result' # 出力先フォルダ名\n",
        "\n",
        "# モデルのインスタンス化。「Classifier」というラッパーを使うことで分類器を学習させるようにする。\n",
        "model = L.Classifier(DNN(), lossfun=F.softmax_cross_entropy)\n",
        "# GPUを使うためのおまじない\n",
        "chainer.cuda.get_device(0).use()\n",
        "model.to_gpu(device)\n",
        "\n",
        "\n",
        "# オプティマイザのセットアップ。今回はAdamを使う\n",
        "optimizer = chainer.optimizers.Adam(alpha=0.01) # alphaが初期学習率（省略すると0.001）\n",
        "optimizer.setup(model)\n",
        "\n",
        "# イテレーターのセットアップ\n",
        "train_iter = chainer.iterators.SerialIterator(train, minibatchsize, repeat=True, shuffle=False)\n",
        "test_iter = chainer.iterators.SerialIterator(test, minibatchsize, repeat=False, shuffle=False)\n",
        "\n",
        "# トレーナーのセットアップ\n",
        "updater = training.updaters.StandardUpdater(train_iter, optimizer, device=device)\n",
        "trainer = training.Trainer(updater, (epoch, 'epoch'), out=outdir)\n",
        "\n",
        "# 評価セット\n",
        "trainer.extend(extensions.Evaluator(test_iter, model, device=device))\n",
        "\n",
        "# 実行中にログを出力する\n",
        "trainer.extend(extensions.LogReport())\n",
        "\n",
        "# 訓練・評価データに対する損失と精度の変化をグラフにプロットする\n",
        "trainer.extend(\n",
        "    extensions.PlotReport(['main/loss', 'validation/main/loss'],\n",
        "                              'epoch', file_name='loss.png'))\n",
        "trainer.extend(\n",
        "    extensions.PlotReport(['main/accuracy', 'validation/main/accuracy'],\n",
        "            'epoch', file_name='accuracy.png'))\n",
        "\n",
        "# ログで出力する内容を指定\n",
        "trainer.extend(extensions.PrintReport(\n",
        "    ['epoch', 'main/loss', 'validation/main/loss',\n",
        "         'main/accuracy', 'validation/main/accuracy', 'elapsed_time']))\n",
        "\n",
        "# プログレスバーの表示（見にくいのでコメントアウト）\n",
        "# trainer.extend(extensions.ProgressBar())\n",
        "\n",
        "# 学習の実行\n",
        "trainer.run()\n",
        "\n",
        "# モデルの保存\n",
        "model.to_cpu() # GPU形式-->CPU形式に変換\n",
        "outmodelname = os.path.join(outdir, 'MNIST_DNN.model')\n",
        "chainer.serializers.save_npz(outmodelname, model) # モデルを保存する"
      ],
      "execution_count": 7,
      "outputs": [
        {
          "output_type": "stream",
          "text": [
            "epoch       main/loss   validation/main/loss  main/accuracy  validation/main/accuracy  elapsed_time\n",
            "\u001b[J1           6.68555     2.00984               0.199133       0.2078                    13.868        \n",
            "\u001b[J2           1.99566     1.9843                0.212216       0.2138                    19.1956       \n",
            "\u001b[J3           1.98556     1.98221               0.218433       0.2158                    24.4967       \n",
            "\u001b[J4           1.98671     1.98257               0.211333       0.2144                    29.8299       \n",
            "\u001b[J5           1.98317     1.99534               0.212283       0.2212                    35.2771       \n",
            "\u001b[J6           1.98517     1.99483               0.209966       0.2146                    40.7061       \n",
            "\u001b[J7           1.99967     1.98237               0.208116       0.2132                    46.1084       \n",
            "\u001b[J8           1.98344     1.98446               0.209966       0.2132                    51.4953       \n",
            "\u001b[J9           1.99088     1.985                 0.2091         0.2129                    56.8134       \n",
            "\u001b[J10          1.98726     1.99171               0.209233       0.2119                    62.2149       \n",
            "\u001b[J11          1.99464     1.99971               0.207483       0.2094                    67.5107       \n",
            "\u001b[J12          1.99384     1.98905               0.207616       0.2127                    72.9607       \n",
            "\u001b[J13          1.99662     1.99801               0.207233       0.2109                    78.3083       \n",
            "\u001b[J14          2.00636     2.01046               0.2055         0.2109                    83.6169       \n",
            "\u001b[J15          2.00476     2.00821               0.205483       0.2075                    88.9453       \n",
            "\u001b[J16          1.99829     1.99541               0.2066         0.2111                    94.2293       \n",
            "\u001b[J17          2.01493     2.0138                0.202766       0.2072                    99.5858       \n",
            "\u001b[J18          2.0106      2.0019                0.207016       0.2116                    104.945       \n",
            "\u001b[J19          2.03058     2.00698               0.2029         0.2112                    110.254       \n",
            "\u001b[J20          2.02022     2.0077                0.2084         0.2112                    115.556       \n"
          ],
          "name": "stdout"
        }
      ]
    },
    {
      "cell_type": "code",
      "metadata": {
        "id": "Ov0vjINOamlc",
        "colab_type": "code",
        "colab": {
          "base_uri": "https://localhost:8080/",
          "height": 351
        },
        "outputId": "985fdc20-d839-42df-c599-d4e2d5874182"
      },
      "source": [
        "# テストデータの推論\n",
        "\n",
        "img = Image.open(\"4-3.png\").convert(\"L\").resize((28, 28))\n",
        "img = (255 - np.array(img, dtype=np.uint8)) / 255.\n",
        "img = (img > 0.1) * 1.0\n",
        "plt.imshow(img, cmap=\"gray\")\n",
        "x = F.flatten(np.float32(img))\n",
        "x = x[np.newaxis, :]\n",
        "with chainer.using_config('train', False):\n",
        "    y = model.predictor(x)\n",
        "y = F.softmax(y).data\n",
        "print(y.argmax())\n",
        "for i in range(10):\n",
        "    print(i, y[0][i])"
      ],
      "execution_count": 9,
      "outputs": [
        {
          "output_type": "error",
          "ename": "FileNotFoundError",
          "evalue": "ignored",
          "traceback": [
            "\u001b[0;31m---------------------------------------------------------------------------\u001b[0m",
            "\u001b[0;31mFileNotFoundError\u001b[0m                         Traceback (most recent call last)",
            "\u001b[0;32m<ipython-input-9-d28914f063b7>\u001b[0m in \u001b[0;36m<module>\u001b[0;34m()\u001b[0m\n\u001b[1;32m      1\u001b[0m \u001b[0;34m\u001b[0m\u001b[0m\n\u001b[0;32m----> 2\u001b[0;31m \u001b[0mimg\u001b[0m \u001b[0;34m=\u001b[0m \u001b[0mImage\u001b[0m\u001b[0;34m.\u001b[0m\u001b[0mopen\u001b[0m\u001b[0;34m(\u001b[0m\u001b[0;34m\"4-3.png\"\u001b[0m\u001b[0;34m)\u001b[0m\u001b[0;34m.\u001b[0m\u001b[0mconvert\u001b[0m\u001b[0;34m(\u001b[0m\u001b[0;34m\"L\"\u001b[0m\u001b[0;34m)\u001b[0m\u001b[0;34m.\u001b[0m\u001b[0mresize\u001b[0m\u001b[0;34m(\u001b[0m\u001b[0;34m(\u001b[0m\u001b[0;36m28\u001b[0m\u001b[0;34m,\u001b[0m \u001b[0;36m28\u001b[0m\u001b[0;34m)\u001b[0m\u001b[0;34m)\u001b[0m\u001b[0;34m\u001b[0m\u001b[0;34m\u001b[0m\u001b[0m\n\u001b[0m\u001b[1;32m      3\u001b[0m \u001b[0mimg\u001b[0m \u001b[0;34m=\u001b[0m \u001b[0;34m(\u001b[0m\u001b[0;36m255\u001b[0m \u001b[0;34m-\u001b[0m \u001b[0mnp\u001b[0m\u001b[0;34m.\u001b[0m\u001b[0marray\u001b[0m\u001b[0;34m(\u001b[0m\u001b[0mimg\u001b[0m\u001b[0;34m,\u001b[0m \u001b[0mdtype\u001b[0m\u001b[0;34m=\u001b[0m\u001b[0mnp\u001b[0m\u001b[0;34m.\u001b[0m\u001b[0muint8\u001b[0m\u001b[0;34m)\u001b[0m\u001b[0;34m)\u001b[0m \u001b[0;34m/\u001b[0m \u001b[0;36m255.\u001b[0m\u001b[0;34m\u001b[0m\u001b[0;34m\u001b[0m\u001b[0m\n\u001b[1;32m      4\u001b[0m \u001b[0mimg\u001b[0m \u001b[0;34m=\u001b[0m \u001b[0;34m(\u001b[0m\u001b[0mimg\u001b[0m \u001b[0;34m>\u001b[0m \u001b[0;36m0.1\u001b[0m\u001b[0;34m)\u001b[0m \u001b[0;34m*\u001b[0m \u001b[0;36m1.0\u001b[0m\u001b[0;34m\u001b[0m\u001b[0;34m\u001b[0m\u001b[0m\n\u001b[1;32m      5\u001b[0m \u001b[0mplt\u001b[0m\u001b[0;34m.\u001b[0m\u001b[0mimshow\u001b[0m\u001b[0;34m(\u001b[0m\u001b[0mimg\u001b[0m\u001b[0;34m,\u001b[0m \u001b[0mcmap\u001b[0m\u001b[0;34m=\u001b[0m\u001b[0;34m\"gray\"\u001b[0m\u001b[0;34m)\u001b[0m\u001b[0;34m\u001b[0m\u001b[0;34m\u001b[0m\u001b[0m\n",
            "\u001b[0;32m/usr/local/lib/python3.6/dist-packages/PIL/Image.py\u001b[0m in \u001b[0;36mopen\u001b[0;34m(fp, mode)\u001b[0m\n\u001b[1;32m   2807\u001b[0m \u001b[0;34m\u001b[0m\u001b[0m\n\u001b[1;32m   2808\u001b[0m     \u001b[0;32mif\u001b[0m \u001b[0mfilename\u001b[0m\u001b[0;34m:\u001b[0m\u001b[0;34m\u001b[0m\u001b[0;34m\u001b[0m\u001b[0m\n\u001b[0;32m-> 2809\u001b[0;31m         \u001b[0mfp\u001b[0m \u001b[0;34m=\u001b[0m \u001b[0mbuiltins\u001b[0m\u001b[0;34m.\u001b[0m\u001b[0mopen\u001b[0m\u001b[0;34m(\u001b[0m\u001b[0mfilename\u001b[0m\u001b[0;34m,\u001b[0m \u001b[0;34m\"rb\"\u001b[0m\u001b[0;34m)\u001b[0m\u001b[0;34m\u001b[0m\u001b[0;34m\u001b[0m\u001b[0m\n\u001b[0m\u001b[1;32m   2810\u001b[0m         \u001b[0mexclusive_fp\u001b[0m \u001b[0;34m=\u001b[0m \u001b[0;32mTrue\u001b[0m\u001b[0;34m\u001b[0m\u001b[0;34m\u001b[0m\u001b[0m\n\u001b[1;32m   2811\u001b[0m \u001b[0;34m\u001b[0m\u001b[0m\n",
            "\u001b[0;31mFileNotFoundError\u001b[0m: [Errno 2] No such file or directory: '4-3.png'"
          ]
        }
      ]
    }
  ]
}